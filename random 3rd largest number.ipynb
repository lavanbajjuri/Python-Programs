{
 "cells": [
  {
   "cell_type": "markdown",
   "metadata": {},
   "source": [
    "# Find the random 3rd largest number"
   ]
  },
  {
   "cell_type": "code",
   "execution_count": 1,
   "metadata": {},
   "outputs": [
    {
     "name": "stdout",
     "output_type": "stream",
     "text": [
      "[3725, 8473]\n"
     ]
    }
   ],
   "source": [
    "import os\n",
    "import random\n",
    "\n",
    "def index_of_3rd_largest(numbers_list):\n",
    "  num = [float('-inf'),float('-inf'),float('-inf')]\n",
    "  for i in numbers_list:\n",
    "    if i not in num:\n",
    "      if i > num[0]:\n",
    "        num = [i,num[0],num[1]]\n",
    "      elif i>num[1]:\n",
    "        num = [num[0],i,num[1]]\n",
    "      elif i>num[2]:\n",
    "        num = [num[0],num[1],i]\n",
    "  ans=[]\n",
    "  for i in range(len(numbers_list)):\n",
    "    if(numbers_list[i]==num[2]):\n",
    "      ans.append(i)\n",
    "  return ans\n",
    "\n",
    "def main():\n",
    "    # TO BE DONE\n",
    "    numbers_list=[random.randint(0,10000) for i in range(10000)]\n",
    "    result_list = index_of_3rd_largest(numbers_list)\n",
    "    print(result_list)\n",
    "    \n",
    "  \n",
    "\n",
    "if __name__ == \"__main__\":\n",
    "    main()\n"
   ]
  },
  {
   "cell_type": "code",
   "execution_count": null,
   "metadata": {},
   "outputs": [],
   "source": []
  }
 ],
 "metadata": {
  "kernelspec": {
   "display_name": "Python 3",
   "language": "python",
   "name": "python3"
  },
  "language_info": {
   "codemirror_mode": {
    "name": "ipython",
    "version": 3
   },
   "file_extension": ".py",
   "mimetype": "text/x-python",
   "name": "python",
   "nbconvert_exporter": "python",
   "pygments_lexer": "ipython3",
   "version": "3.8.3"
  }
 },
 "nbformat": 4,
 "nbformat_minor": 4
}
