{
 "cells": [
  {
   "cell_type": "code",
   "execution_count": 5,
   "metadata": {},
   "outputs": [
    {
     "name": "stdout",
     "output_type": "stream",
     "text": [
      "My estimate of pi is: '3.142772'\n"
     ]
    }
   ],
   "source": [
    "import random\n",
    "def estimate_pi():\n",
    "  \"\"\"Write a function which returns an estimate of the irrational number π\"\"\"\n",
    "  Interval = 1000\n",
    "  cir_point=0\n",
    "  squ_point=0\n",
    "  for i in range(Interval**2):\n",
    "    rand_x = random.uniform(-1,1)\n",
    "    rand_y = random.uniform(-1,1)\n",
    "    \n",
    "    origin_dist = rand_x**2+rand_y**2\n",
    "    \n",
    "    if(origin_dist <=1):\n",
    "      cir_point+=1\n",
    "    squ_point+=1\n",
    "    pi=4*cir_point/squ_point\n",
    "    \n",
    "  return pi\n",
    "  \n",
    "def main():\n",
    "  print(\"My estimate of pi is: '\" + str(estimate_pi()) + \"'\")\n",
    "\n",
    "if __name__ == \"__main__\":\n",
    "  main()"
   ]
  },
  {
   "cell_type": "code",
   "execution_count": null,
   "metadata": {},
   "outputs": [],
   "source": []
  }
 ],
 "metadata": {
  "kernelspec": {
   "display_name": "Python 3",
   "language": "python",
   "name": "python3"
  },
  "language_info": {
   "codemirror_mode": {
    "name": "ipython",
    "version": 3
   },
   "file_extension": ".py",
   "mimetype": "text/x-python",
   "name": "python",
   "nbconvert_exporter": "python",
   "pygments_lexer": "ipython3",
   "version": "3.8.3"
  }
 },
 "nbformat": 4,
 "nbformat_minor": 4
}
