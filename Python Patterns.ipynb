{
 "cells": [
  {
   "cell_type": "markdown",
   "metadata": {},
   "source": [
    "# Pattern 1"
   ]
  },
  {
   "cell_type": "code",
   "execution_count": 3,
   "metadata": {},
   "outputs": [
    {
     "name": "stdout",
     "output_type": "stream",
     "text": [
      "Enter a number: 5\n",
      "    *\n",
      "   ***\n",
      "  *****\n",
      " *******\n",
      "*********\n"
     ]
    }
   ],
   "source": [
    "n=int(input('Enter a number: '))\n",
    "st_c = 1\n",
    "sp_c= n-1\n",
    "for i in range(n):\n",
    "    for j in range(sp_c):\n",
    "        print(\" \", end = \"\")\n",
    "    for j in range(st_c):\n",
    "        print(\"*\", end = \"\")\n",
    "    print()\n",
    "    st_c+=2\n",
    "    sp_c-=1"
   ]
  },
  {
   "cell_type": "markdown",
   "metadata": {},
   "source": [
    "# Pattern 2"
   ]
  },
  {
   "cell_type": "code",
   "execution_count": 5,
   "metadata": {},
   "outputs": [
    {
     "name": "stdout",
     "output_type": "stream",
     "text": [
      "Enter a number: 5\n",
      " *********\n",
      "  *******\n",
      "   *****\n",
      "    ***\n",
      "     *\n"
     ]
    }
   ],
   "source": [
    "n=int(input('Enter a number: '))\n",
    "st_c = (2*n)-1\n",
    "sp_c= 1\n",
    "for i in range(n):\n",
    "    for j in range(sp_c):\n",
    "        print(\" \", end = \"\")\n",
    "    for j in range(st_c):\n",
    "        print(\"*\", end = \"\")\n",
    "    print()\n",
    "    st_c-=2\n",
    "    sp_c+=1"
   ]
  },
  {
   "cell_type": "markdown",
   "metadata": {},
   "source": [
    "# Pattern 3"
   ]
  },
  {
   "cell_type": "code",
   "execution_count": 7,
   "metadata": {},
   "outputs": [
    {
     "name": "stdout",
     "output_type": "stream",
     "text": [
      "Enter a number: 5\n",
      "    *\n",
      "   ***\n",
      "  *****\n",
      " *******\n",
      "*********\n",
      " *******\n",
      "  *****\n",
      "   ***\n",
      "    *\n",
      "     \n"
     ]
    }
   ],
   "source": [
    "n=int(input('Enter a number: '))\n",
    "st_c = 1\n",
    "sp_c= n-1\n",
    "for i in range(n):\n",
    "    for j in range(sp_c):\n",
    "        print(\" \", end = \"\")\n",
    "    for j in range(st_c):\n",
    "        print(\"*\", end = \"\")\n",
    "    print()\n",
    "    st_c+=2\n",
    "    sp_c-=1\n",
    "st_c-=4\n",
    "sp_c+=2\n",
    "for i in range(n):\n",
    "    for j in range(sp_c):\n",
    "        print(\" \", end = \"\")\n",
    "    for j in range(st_c):\n",
    "        print(\"*\", end = \"\")\n",
    "    print()\n",
    "    st_c-=2\n",
    "    sp_c+=1"
   ]
  },
  {
   "cell_type": "markdown",
   "metadata": {},
   "source": [
    "# Pattern 4"
   ]
  },
  {
   "cell_type": "code",
   "execution_count": 13,
   "metadata": {},
   "outputs": [
    {
     "name": "stdout",
     "output_type": "stream",
     "text": [
      "Enter a number: 5\n",
      "    1\n",
      "   123\n",
      "  12345\n",
      " 1234567\n",
      "123456789\n"
     ]
    }
   ],
   "source": [
    "n=int(input(\"Enter a number: \"))\n",
    "n_c=1\n",
    "sp_c =n-1\n",
    "for i in range(n):\n",
    "    for j in range(sp_c):\n",
    "        print(\" \", end=\"\")\n",
    "    for j in range(n_c):\n",
    "        print(j+1, end=\"\")\n",
    "    print()\n",
    "    n_c+=2\n",
    "    sp_c-=1\n",
    "    "
   ]
  },
  {
   "cell_type": "markdown",
   "metadata": {},
   "source": [
    "# Pattern 5"
   ]
  },
  {
   "cell_type": "code",
   "execution_count": 15,
   "metadata": {},
   "outputs": [
    {
     "name": "stdout",
     "output_type": "stream",
     "text": [
      "Enter a number: 5\n",
      "1\n",
      "10\n",
      "101\n",
      "1010\n",
      "10101\n"
     ]
    }
   ],
   "source": [
    "n=int(input(\"Enter a number: \"))\n",
    "n_c=1\n",
    "for i in range(n):\n",
    "    for j in range(n_c):\n",
    "        if j%2==0:\n",
    "            print(1, end=\"\")\n",
    "        else:\n",
    "            print(0, end=\"\")\n",
    "    print()\n",
    "    n_c+=1"
   ]
  },
  {
   "cell_type": "markdown",
   "metadata": {},
   "source": [
    "# Pattern 6"
   ]
  },
  {
   "cell_type": "code",
   "execution_count": 18,
   "metadata": {},
   "outputs": [
    {
     "name": "stdout",
     "output_type": "stream",
     "text": [
      "Enter a number:5\n",
      "    1\n",
      "   222\n",
      "  33333\n",
      " 4444444\n",
      "555555555\n"
     ]
    }
   ],
   "source": [
    "n=int(input(\"Enter a number:\"))\n",
    "n_c=1\n",
    "sp_c=n-1\n",
    "for i in range(n):\n",
    "    for j in range(sp_c):\n",
    "        print(\" \", end = \"\")\n",
    "    for j in range(n_c):\n",
    "        print(i+1, end= \"\")\n",
    "    print()\n",
    "    n_c+=2\n",
    "    sp_c-=1"
   ]
  },
  {
   "cell_type": "markdown",
   "metadata": {},
   "source": [
    "# Pattern 7"
   ]
  },
  {
   "cell_type": "code",
   "execution_count": 21,
   "metadata": {},
   "outputs": [
    {
     "name": "stdout",
     "output_type": "stream",
     "text": [
      "Enter a number:5\n",
      "    *\n",
      "   * *\n",
      "  *   *\n",
      " *     *\n",
      "*       *\n"
     ]
    }
   ],
   "source": [
    "n=int(input(\"Enter a number:\"))\n",
    "st_c=1\n",
    "sp_c=n-1\n",
    "for i in range(n):\n",
    "    for j in range(sp_c):\n",
    "        print(\" \", end = \"\")\n",
    "    for j in range(st_c):\n",
    "        if j==0 or j==(st_c)-1:\n",
    "            print(\"*\", end = \"\")\n",
    "        else:\n",
    "            print(\" \", end = \"\")\n",
    "    print()\n",
    "    st_c+=2\n",
    "    sp_c-=1"
   ]
  },
  {
   "cell_type": "markdown",
   "metadata": {},
   "source": [
    "# Pattern 8"
   ]
  },
  {
   "cell_type": "code",
   "execution_count": 22,
   "metadata": {},
   "outputs": [
    {
     "name": "stdout",
     "output_type": "stream",
     "text": [
      "Enter a number:5\n",
      "    1\n",
      "   121\n",
      "  12321\n",
      " 1234321\n",
      "123454321\n"
     ]
    }
   ],
   "source": [
    "n=int(input(\"Enter a number:\"))\n",
    "st_c=1\n",
    "sp_c=n-1\n",
    "for i in range(n):\n",
    "    for j in range(sp_c):\n",
    "        print(\" \", end = \"\")\n",
    "    for j in range(st_c):\n",
    "        if j>(st_c//2) :\n",
    "            print((st_c)-j, end = \"\")\n",
    "        else:\n",
    "            print(j+1, end = \"\")\n",
    "    print()\n",
    "    st_c+=2\n",
    "    sp_c-=1"
   ]
  },
  {
   "cell_type": "markdown",
   "metadata": {},
   "source": [
    "# pattern 9"
   ]
  },
  {
   "cell_type": "code",
   "execution_count": 25,
   "metadata": {},
   "outputs": [
    {
     "name": "stdout",
     "output_type": "stream",
     "text": [
      "Enter a number: 5\n",
      "1\n",
      "10\n",
      "100\n",
      "1000\n",
      "10000\n"
     ]
    }
   ],
   "source": [
    "n=int(input(\"Enter a number: \"))\n",
    "n_c=1\n",
    "for i in range(n):\n",
    "    for j in range(n_c):\n",
    "        if j==0:\n",
    "            print(1, end=\"\")\n",
    "        else:\n",
    "            print(0, end=\"\")\n",
    "    print()\n",
    "    n_c+=1"
   ]
  },
  {
   "cell_type": "markdown",
   "metadata": {},
   "source": [
    "# Pattern 10"
   ]
  },
  {
   "cell_type": "code",
   "execution_count": 31,
   "metadata": {},
   "outputs": [
    {
     "name": "stdout",
     "output_type": "stream",
     "text": [
      "Enter a number: 5\n",
      "1 \n",
      "2 6 \n",
      "3 7 10 \n",
      "4 8 11 13 \n",
      "5 9 12 14 15 \n"
     ]
    }
   ],
   "source": [
    "n=int(input(\"Enter a number: \"))\n",
    "for i in range(1, n+1):\n",
    "    k=i\n",
    "    for j in range(i):\n",
    "        print(k, end=\" \")\n",
    "        k=k+n-(j+1)\n",
    "    print()"
   ]
  },
  {
   "cell_type": "markdown",
   "metadata": {},
   "source": [
    "# Pattern 11"
   ]
  },
  {
   "cell_type": "code",
   "execution_count": 38,
   "metadata": {},
   "outputs": [
    {
     "name": "stdout",
     "output_type": "stream",
     "text": [
      "Enter a number : \n",
      "5\n",
      "1 \n",
      "2 3 \n",
      "4 5 6 \n",
      "7 8 9 10 \n",
      "11 12 13 14 15 \n"
     ]
    }
   ],
   "source": [
    "n = int(input(\"Enter a number : \\n\"))\n",
    "n_c=1\n",
    "for i in range(n):\n",
    "    for j in range(i+1):\n",
    "        print(n_c, end=\" \")\n",
    "        n_c+=1\n",
    "    print()\n",
    "    "
   ]
  }
 ],
 "metadata": {
  "kernelspec": {
   "display_name": "Python 3",
   "language": "python",
   "name": "python3"
  },
  "language_info": {
   "codemirror_mode": {
    "name": "ipython",
    "version": 3
   },
   "file_extension": ".py",
   "mimetype": "text/x-python",
   "name": "python",
   "nbconvert_exporter": "python",
   "pygments_lexer": "ipython3",
   "version": "3.8.3"
  }
 },
 "nbformat": 4,
 "nbformat_minor": 4
}
